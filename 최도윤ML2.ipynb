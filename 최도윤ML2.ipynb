{
  "nbformat": 4,
  "nbformat_minor": 0,
  "metadata": {
    "colab": {
      "provenance": [],
      "authorship_tag": "ABX9TyP3TZ0qz/b9YcdVJpoJTOKP",
      "include_colab_link": true
    },
    "kernelspec": {
      "name": "python3",
      "display_name": "Python 3"
    },
    "language_info": {
      "name": "python"
    }
  },
  "cells": [
    {
      "cell_type": "markdown",
      "metadata": {
        "id": "view-in-github",
        "colab_type": "text"
      },
      "source": [
        "<a href=\"https://colab.research.google.com/github/polyjuice06/machine_learning/blob/main/%EC%B5%9C%EB%8F%84%EC%9C%A4ML2.ipynb\" target=\"_parent\"><img src=\"https://colab.research.google.com/assets/colab-badge.svg\" alt=\"Open In Colab\"/></a>"
      ]
    },
    {
      "cell_type": "code",
      "execution_count": 3,
      "metadata": {
        "colab": {
          "base_uri": "https://localhost:8080/"
        },
        "id": "nzUiPvRkWeGH",
        "outputId": "a77146e2-a92d-49e8-f047-70d3da6bd850"
      },
      "outputs": [
        {
          "output_type": "stream",
          "name": "stdout",
          "text": [
            "a=-1.265319,b=1.856110,c=0.560926,d=-1.207090,e=1.001506,f=0.882590,g=2.224134,h=-2.230575,i=-1.002023\n",
            "[-0.991351934873273, -1.0083994163490948, 0.9999214289480788, 0.9996627903555029, -1.002023152657903, -0.9978153473639152]\n"
          ]
        }
      ],
      "source": [
        "import random\n",
        "import math\n",
        "a  = random.uniform(1,-1)\n",
        "b  = random.uniform(1,-1)\n",
        "c  = random.uniform(1,-1)\n",
        "d  = random.uniform(1,-1)\n",
        "e  = random.uniform(1,-1)\n",
        "f  = random.uniform(1,-1)\n",
        "g  = random.uniform(1,-1)\n",
        "h  = random.uniform(1,-1)\n",
        "i  = random.uniform(1,-1)\n",
        "\n",
        "eta = 0.0001\n",
        "\n",
        "def sigmoid(x):\n",
        "  return 1.0/(1.0+math.exp(-x))\n",
        "\n",
        "data = [(5,10),(7,18),(10,8),(15,15),(20,3),(23,12)]\n",
        "labels = [-1,-1,1,1,-1,-1]\n",
        "zValue = [0,0,0,0,0,0]\n",
        "FinalValue = [0,0,0,0,0,0]\n",
        "\n",
        "for counter in range(1000000):\n",
        "  da=db=dc=dd=de=df=dg=dh=di=0.0\n",
        "  for idx in range(len(data)):\n",
        "    x = float(data[idx][0])\n",
        "    y = float(data[idx][1])\n",
        "    z1 = a*x+b*y+c\n",
        "    X = sigmoid(z1)\n",
        "    z2 = d*x+e*y+f\n",
        "    Y = sigmoid(z2)\n",
        "    z = g*X+h*Y+i\n",
        "    Z = labels[idx]\n",
        "    dz = 2*(z-Z)\n",
        "    dz1 = dz*g*sigmoid(z1)*(1.0-sigmoid(z1))\n",
        "    dz2 = dz*h*sigmoid(z2)*(1.0-sigmoid(z2))\n",
        "    da+= dz1*x\n",
        "    db+= dz1*y\n",
        "    dc+= dz1\n",
        "    dd+= dz2*x\n",
        "    de+= dz2*y\n",
        "    df+= dz2\n",
        "    dg+= dz*X\n",
        "    dh+= dz*Y\n",
        "    di+= dz\n",
        "  a = a-eta*da\n",
        "  b = b-eta*db\n",
        "  c = c-eta*dc\n",
        "  d = d-eta*dd\n",
        "  e = e-eta*de\n",
        "  f = f-eta*df\n",
        "  g = g-eta*dg\n",
        "  h = h-eta*dh\n",
        "  i = i-eta*di\n",
        "print(\"a=%lf,b=%lf,c=%lf,d=%lf,e=%lf,f=%lf,g=%lf,h=%lf,i=%lf\"%(a,b,c,d,e,f,g,h,i))\n",
        "\n",
        "for counter in range(1000000):\n",
        "  for idx in range(len(data)):\n",
        "    x = float(data[idx][0])\n",
        "    y = float(data[idx][1])\n",
        "    z1 = a*x+b*y+c\n",
        "    X=sigmoid(z1)\n",
        "    z2=d*x+e*y+f\n",
        "    Y=sigmoid(z2)\n",
        "    z = g*X+h*Y+i\n",
        "    zValue[idx]+=z\n",
        "for idx in range(len(data)):\n",
        "  FinalValue[idx] = zValue[idx]/1000000\n",
        "print(FinalValue)"
      ]
    }
  ]
}